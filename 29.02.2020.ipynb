{
 "cells": [
  {
   "cell_type": "code",
   "execution_count": 1,
   "metadata": {},
   "outputs": [
    {
     "name": "stdout",
     "output_type": "stream",
     "text": [
      "1\n",
      "2\n",
      "3\n",
      "4\n",
      "1\n",
      "2\n",
      "3\n",
      "4\n",
      "6\n",
      "7\n",
      "8\n",
      "9\n"
     ]
    }
   ],
   "source": [
    "for i in range (1,11):\n",
    "    if i % 5 == 0:\n",
    "        break\n",
    "    else:\n",
    "        print(i)\n",
    "\n",
    "for i in range (1,11):\n",
    "    if i % 5 == 0:\n",
    "        continue\n",
    "    else:\n",
    "        print(i)\n"
   ]
  },
  {
   "cell_type": "code",
   "execution_count": null,
   "metadata": {},
   "outputs": [],
   "source": [
    "username=(input(\"enter username\"))\n",
    "password=(input(\"Enter password\"))\n",
    "while username == \"python\":\n",
    "    break\n",
    "while password ==\"abc123\":\n",
    "    print(\"Login Successful\")\n",
    "    break\n",
    "else:\n",
    "    print(\"Wrong username and password\")\n",
    "    \n"
   ]
  },
  {
   "cell_type": "code",
   "execution_count": 1,
   "metadata": {},
   "outputs": [
    {
     "ename": "SyntaxError",
     "evalue": "EOL while scanning string literal (<ipython-input-1-95dc3cd25e29>, line 9)",
     "output_type": "error",
     "traceback": [
      "\u001b[1;36m  File \u001b[1;32m\"<ipython-input-1-95dc3cd25e29>\"\u001b[1;36m, line \u001b[1;32m9\u001b[0m\n\u001b[1;33m    pwd = input(\"enter password\u001b[0m\n\u001b[1;37m                               ^\u001b[0m\n\u001b[1;31mSyntaxError\u001b[0m\u001b[1;31m:\u001b[0m EOL while scanning string literal\n"
     ]
    }
   ],
   "source": [
    "def name(username): #function definition\n",
    "    print(\"Hello\",username)\n",
    "name(\"pranav\") #Function calling\n",
    "\n",
    "#password: abc123\n",
    "while True:\n",
    "    user =input(\"enter username: \")\n",
    "    if user == \"python\":\n",
    "        pwd = input(\"enter password\n",
    "                    : \")\n",
    "        if pwd == \"abc123\":\n",
    "            print(\"Login Success!!\")\n",
    "            break"
   ]
  },
  {
   "cell_type": "code",
   "execution_count": 2,
   "metadata": {},
   "outputs": [
    {
     "name": "stdout",
     "output_type": "stream",
     "text": [
      "144\n"
     ]
    }
   ],
   "source": [
    "def addi(a,b):\n",
    "    return a+b,a-b,a*b,a/b\n",
    "add,sub,mul,div = addi(12,12)\n",
    "print(mul)\n"
   ]
  },
  {
   "cell_type": "code",
   "execution_count": 3,
   "metadata": {},
   "outputs": [
    {
     "name": "stdout",
     "output_type": "stream",
     "text": [
      "[1, 2, 3, 10, 20, 30]\n",
      "[1, 2, 3, 1, 2, 3, 1, 2, 3]\n",
      "2\n",
      "[2, 3]\n",
      "True\n",
      "False\n"
     ]
    }
   ],
   "source": [
    "list1 = [1,2,3]\n",
    "list2 = [10,20,30]\n",
    "print(list1+list2) #concatenation\n",
    "print(list1*3) #repetition\n",
    "print(list1[1]) #2\n",
    "print(list1[1:3]) #slice\n",
    "print(2 in list1) #True\n",
    "print(200 in list2) #False"
   ]
  },
  {
   "cell_type": "code",
   "execution_count": 4,
   "metadata": {},
   "outputs": [
    {
     "name": "stdout",
     "output_type": "stream",
     "text": [
      "4\n",
      "1\n",
      "40\n",
      "['p', 'y', 't', 'h', 'o', 'n']\n",
      "[1, 2, 3, 100]\n"
     ]
    }
   ],
   "source": [
    "list1=[1,2,3,40]\n",
    "s1=\"python\"\n",
    "print(len(list1))\n",
    "print(min(list1))\n",
    "print(max(list1))\n",
    "list2=list(s1)\n",
    "print(list2)\n",
    "list1[-1]=100\n",
    "print (list1)"
   ]
  },
  {
   "cell_type": "code",
   "execution_count": 5,
   "metadata": {},
   "outputs": [
    {
     "name": "stdout",
     "output_type": "stream",
     "text": [
      "4\n",
      "1\n",
      "40\n",
      "['p', 'y', 't', 'h', 'o', 'n']\n",
      "[1, 2, 3, 100]\n"
     ]
    }
   ],
   "source": [
    "list1=[1,2,3,40]\n",
    "s1=\"python\"\n",
    "print(len(list1))\n",
    "print(min(list1))\n",
    "print(max(list1))\n",
    "list2=list(s1)\n",
    "print(list2)\n",
    "list1[-1]=100\n",
    "print (list1)"
   ]
  },
  {
   "cell_type": "code",
   "execution_count": 6,
   "metadata": {},
   "outputs": [
    {
     "name": "stdout",
     "output_type": "stream",
     "text": [
      "1200\n",
      "276\n"
     ]
    }
   ],
   "source": [
    "def mul(a,b=100):\n",
    "    return a*b\n",
    "print(mul(12))\n",
    "print(mul(12,23))"
   ]
  },
  {
   "cell_type": "code",
   "execution_count": 7,
   "metadata": {},
   "outputs": [
    {
     "data": {
      "text/plain": [
       "44"
      ]
     },
     "execution_count": 7,
     "metadata": {},
     "output_type": "execute_result"
    }
   ],
   "source": [
    "def add(a,b):\n",
    "    return a+b\n",
    "add(12,32)"
   ]
  },
  {
   "cell_type": "code",
   "execution_count": 8,
   "metadata": {},
   "outputs": [
    {
     "name": "stdout",
     "output_type": "stream",
     "text": [
      "144\n"
     ]
    }
   ],
   "source": [
    "def addi(a,b):\n",
    "    return a+b,a-b,a*b,a/b\n",
    "add,sub,mul,div = addi(12,12)\n",
    "print(mul)"
   ]
  },
  {
   "cell_type": "code",
   "execution_count": null,
   "metadata": {},
   "outputs": [],
   "source": [
    "while True:\n",
    "    user =input(\"enter username: \")\n",
    "    if user == \"python\":\n",
    "        pwd = input(\"enter password: \")\n",
    "        if pwd == \"abc123\":\n",
    "            print(\"Login Success!!\")\n",
    "            break"
   ]
  }
 ],
 "metadata": {
  "kernelspec": {
   "display_name": "Python 3",
   "language": "python",
   "name": "python3"
  },
  "language_info": {
   "codemirror_mode": {
    "name": "ipython",
    "version": 3
   },
   "file_extension": ".py",
   "mimetype": "text/x-python",
   "name": "python",
   "nbconvert_exporter": "python",
   "pygments_lexer": "ipython3",
   "version": "3.7.3"
  }
 },
 "nbformat": 4,
 "nbformat_minor": 2
}
