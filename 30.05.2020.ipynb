{
 "cells": [
  {
   "cell_type": "code",
   "execution_count": 1,
   "metadata": {},
   "outputs": [
    {
     "data": {
      "text/plain": [
       "120"
      ]
     },
     "execution_count": 1,
     "metadata": {},
     "output_type": "execute_result"
    }
   ],
   "source": [
    "#recursive function:\n",
    "#factorial of number\n",
    "def fact(n):\n",
    "    if n== 0 or n==1:\n",
    "        return 1\n",
    "    else:\n",
    "        return n*fact(n-1)\n",
    "fact(5)"
   ]
  },
  {
   "cell_type": "code",
   "execution_count": 3,
   "metadata": {},
   "outputs": [
    {
     "name": "stdout",
     "output_type": "stream",
     "text": [
      "1\n",
      "11\n",
      "1 2 3 4 5 6 7 8 9 10 11 "
     ]
    }
   ],
   "source": [
    "#Lower Bound and upper bond values\n",
    "def display(lb,ub):\n",
    "    if lb>ub:\n",
    "        return\n",
    "    else:\n",
    "        print(lb,end=\" \")\n",
    "        display(lb+1,ub)\n",
    "lb=int(input())\n",
    "ub=int(input())\n",
    "display(lb,ub)"
   ]
  },
  {
   "cell_type": "code",
   "execution_count": 12,
   "metadata": {},
   "outputs": [
    {
     "name": "stdout",
     "output_type": "stream",
     "text": [
      "34\n",
      "0.0003440380096435547\n"
     ]
    }
   ],
   "source": [
    "#Fibonacci series:0,1,1,2,3,5,8,13,21,34.....\n",
    "import time\n",
    "def recur_fibo(n):\n",
    "    if n==1:\n",
    "        return 0\n",
    "    elif n==2:\n",
    "        return 1\n",
    "    else:\n",
    "        return recur_fibo(n-1)+recur_fibo(n-2)\n",
    "prev =time.time()\n",
    "print(recur_fibo(10))\n",
    "print(time.time()-prev)"
   ]
  },
  {
   "cell_type": "code",
   "execution_count": 11,
   "metadata": {},
   "outputs": [
    {
     "name": "stdout",
     "output_type": "stream",
     "text": [
      "34\n",
      "0.0003211498260498047\n"
     ]
    }
   ],
   "source": [
    "#Fibonacci Series using list \n",
    "import time\n",
    "fibs=[0,1]\n",
    "def fibonacci(n):\n",
    "    if n<=len(fibs):\n",
    "        return fibs[n-1]\n",
    "    else:\n",
    "        fibs.append(fibs[len(fibs)-1]+fibs[len(fibs)-2])\n",
    "        return fibonacci(n)\n",
    "prev=time.time()\n",
    "print(fibonacci(10))\n",
    "print(time.time()-prev)"
   ]
  },
  {
   "cell_type": "code",
   "execution_count": 15,
   "metadata": {},
   "outputs": [
    {
     "name": "stdout",
     "output_type": "stream",
     "text": [
      "length of list: 6\n",
      "['p', 'y', 't', 'h', 'o', 'n']\n",
      "t\n"
     ]
    }
   ],
   "source": [
    "#built-in functions \n",
    "list1=[12,34,45,6,\"str\",True]\n",
    "list2=[34,45,6.6,45,]\n",
    "string=\"python\"\n",
    "#len() returns no. of elements of your list\n",
    "print(\"length of list:\",len(list1))\n",
    "\n",
    "print(list(string))\n",
    "print(list1[4][1])"
   ]
  },
  {
   "cell_type": "markdown",
   "metadata": {},
   "source": [
    "## Built-in methods:\n",
    "### Adding an element:\n",
    "1. append()\n",
    "2. insert()"
   ]
  },
  {
   "cell_type": "code",
   "execution_count": 16,
   "metadata": {},
   "outputs": [
    {
     "name": "stdout",
     "output_type": "stream",
     "text": [
      "[1, 2, 3, 4, 5, 6]\n",
      "[1, 2, 3, 4, 5, 6, 7]\n"
     ]
    }
   ],
   "source": [
    "list1=[1,2,3,4,5]\n",
    "list1.append(6)\n",
    "print(list1)\n",
    "list1.append(7)\n",
    "print(list1)"
   ]
  },
  {
   "cell_type": "code",
   "execution_count": 17,
   "metadata": {},
   "outputs": [
    {
     "name": "stdout",
     "output_type": "stream",
     "text": [
      "[1, 2, 100, 3, 4, 5, 6, 7]\n"
     ]
    }
   ],
   "source": [
    "#insert()--> inserts an element in the given position \n",
    "list1.insert(2,100)\n",
    "print(list1)"
   ]
  },
  {
   "cell_type": "code",
   "execution_count": 18,
   "metadata": {},
   "outputs": [
    {
     "name": "stdout",
     "output_type": "stream",
     "text": [
      "[1, 2, 3, 4, 5, 6, 7]\n"
     ]
    }
   ],
   "source": [
    "#removing elements\n",
    "#list1.pop()\n",
    "#print(list1)\n",
    "list1.pop(2)\n",
    "print(list1)"
   ]
  },
  {
   "cell_type": "code",
   "execution_count": 19,
   "metadata": {},
   "outputs": [
    {
     "name": "stdout",
     "output_type": "stream",
     "text": [
      "[1, 2, 3, 5, 6, 7]\n"
     ]
    }
   ],
   "source": [
    "list1.remove(4)\n",
    "print(list1)"
   ]
  },
  {
   "cell_type": "code",
   "execution_count": 20,
   "metadata": {},
   "outputs": [
    {
     "data": {
      "text/plain": [
       "[]"
      ]
     },
     "execution_count": 20,
     "metadata": {},
     "output_type": "execute_result"
    }
   ],
   "source": [
    "#clear\n",
    "list1.clear()\n",
    "list1"
   ]
  },
  {
   "cell_type": "code",
   "execution_count": 22,
   "metadata": {},
   "outputs": [
    {
     "name": "stdout",
     "output_type": "stream",
     "text": [
      "1\n",
      "1\n"
     ]
    }
   ],
   "source": [
    "list1=[23,34,45,56,78,12,32,11]\n",
    "print(list1.index(34))#returns index of an element\n",
    "print(list1.count(78))#frequency of an element"
   ]
  },
  {
   "cell_type": "code",
   "execution_count": 24,
   "metadata": {},
   "outputs": [
    {
     "name": "stdout",
     "output_type": "stream",
     "text": [
      "[78, 56, 45, 34, 32, 23, 12, 11]\n",
      "[11, 12, 23, 32, 34, 45, 56, 78]\n"
     ]
    }
   ],
   "source": [
    "#decending order\n",
    "list1.sort(reverse=True)\n",
    "print(list1)\n",
    "#ascendind order\n",
    "list1.sort(reverse=False)\n",
    "print(list1)"
   ]
  },
  {
   "cell_type": "code",
   "execution_count": 26,
   "metadata": {},
   "outputs": [
    {
     "name": "stdout",
     "output_type": "stream",
     "text": [
      "[1, 2, 3, 4, 5]\n",
      "[1, 2, 3, 4, 5]\n",
      "[1, 2, 3, 4, 5, 6, 7] [1, 2, 3, 4, 5, 6, 7] [1, 2, 3, 4, 5]\n"
     ]
    }
   ],
   "source": [
    "list1=[1,2,3,4,5,]\n",
    "list2=[]\n",
    "list3=[]\n",
    "list2=list1\n",
    "print(list2)\n",
    "list3=list1.copy()\n",
    "print(list3)\n",
    "list1.append(6)\n",
    "list1.append(7)\n",
    "print(list1,list2,list3)"
   ]
  },
  {
   "cell_type": "markdown",
   "metadata": {},
   "source": [
    "## File Handling:\n",
    "1. create\n",
    "2. add some text\n",
    "3. save\n",
    "4. read\n",
    "5. appending\n",
    "6. Rename\n",
    "7. remove"
   ]
  },
  {
   "cell_type": "markdown",
   "metadata": {},
   "source": [
    "### Modes:\n",
    "1. write(w)\n",
    "2. read(r)\n",
    "3. append(a)\n",
    "4. new file creation(x)"
   ]
  },
  {
   "cell_type": "markdown",
   "metadata": {},
   "source": [
    "1. open()\n",
    "2. close()"
   ]
  },
  {
   "cell_type": "code",
   "execution_count": 28,
   "metadata": {},
   "outputs": [],
   "source": [
    "f=open(\"sample.txt\",\"w\")\n",
    "f.write(\"Hello everyone!!!\")\n",
    "f.close()"
   ]
  },
  {
   "cell_type": "code",
   "execution_count": 29,
   "metadata": {},
   "outputs": [
    {
     "name": "stdout",
     "output_type": "stream",
     "text": [
      "Hello everyone!!!\n"
     ]
    }
   ],
   "source": [
    "f=open(\"sample.txt\",\"r\")\n",
    "data=f.read()\n",
    "print(data)\n",
    "f.close()"
   ]
  },
  {
   "cell_type": "code",
   "execution_count": 30,
   "metadata": {},
   "outputs": [],
   "source": [
    "f=open(\"sample.txt\",\"a\")\n",
    "s='''How are you all doing??\n",
    "Stay home'''\n",
    "f.write(s)\n",
    "f.close()\n"
   ]
  },
  {
   "cell_type": "code",
   "execution_count": 31,
   "metadata": {},
   "outputs": [
    {
     "name": "stdout",
     "output_type": "stream",
     "text": [
      "Hello everyone!!!How are you all doing??\n",
      "Stay home\n"
     ]
    }
   ],
   "source": [
    "f=open(\"sample.txt\",\"r\")\n",
    "data=f.read()\n",
    "print(data)\n",
    "f.close()"
   ]
  },
  {
   "cell_type": "code",
   "execution_count": null,
   "metadata": {},
   "outputs": [],
   "source": []
  }
 ],
 "metadata": {
  "kernelspec": {
   "display_name": "Python 3",
   "language": "python",
   "name": "python3"
  },
  "language_info": {
   "codemirror_mode": {
    "name": "ipython",
    "version": 3
   },
   "file_extension": ".py",
   "mimetype": "text/x-python",
   "name": "python",
   "nbconvert_exporter": "python",
   "pygments_lexer": "ipython3",
   "version": "3.7.6"
  }
 },
 "nbformat": 4,
 "nbformat_minor": 4
}
